{
 "cells": [
  {
   "cell_type": "code",
   "execution_count": 43,
   "id": "79467825-1f31-469b-945a-cc3eec7c7c53",
   "metadata": {},
   "outputs": [],
   "source": [
    "import matplotlib.pyplot as plt\n",
    "import numpy as np\n",
    "from matplotlib.colors import ListedColormap\n",
    "import random"
   ]
  },
  {
   "cell_type": "code",
   "execution_count": 44,
   "id": "28e57e26-5756-49cc-bc24-4f7fc8d0f95b",
   "metadata": {},
   "outputs": [],
   "source": [
    "def dfs(graph, start, end, path=None, visited=None):\n",
    "    if path is None:\n",
    "        path = []\n",
    "    if visited is None:\n",
    "        visited = set()\n",
    "\n",
    "    path.append(start)\n",
    "    visited.add(start)\n",
    "\n",
    "    if start == end:\n",
    "        return path\n",
    "\n",
    "    neighbors = list(graph[start])\n",
    "    random.shuffle(neighbors)  # Randomize the order of neighbors\n",
    "    for neighbor in neighbors:\n",
    "        if neighbor not in visited:\n",
    "            new_path = dfs(graph, neighbor, end, path.copy(), visited.copy())\n",
    "            if new_path:\n",
    "                return new_path\n",
    "    return None"
   ]
  },
  {
   "cell_type": "code",
   "execution_count": 77,
   "id": "25c61b70-8ceb-4b7d-8a57-5572596cf7de",
   "metadata": {},
   "outputs": [],
   "source": [
    "def create_graph(maze):\n",
    "    graph = {}\n",
    "    for i, row in enumerate(maze):\n",
    "        for j, cell in enumerate(row):\n",
    "            if cell == 0:  # Only consider paths, not walls\n",
    "                graph[(i, j)] = []\n",
    "                for direction in [(0, 1), (1, 0), (0, -1), (-1, 0)]:\n",
    "                    ni, nj = i + direction[0], j + direction[1]\n",
    "                    if 0 <= ni < len(maze) and 0 <= nj < len(maze[0]) and maze[ni][nj] == 0:\n",
    "                        graph[(i, j)].append((ni, nj))\n",
    "    return graph\n"
   ]
  },
  {
   "cell_type": "code",
   "execution_count": 78,
   "id": "a09b5868-906c-43a2-98c5-5ccb203786e5",
   "metadata": {},
   "outputs": [],
   "source": [
    "\n",
    "def visualize_path(maze, path):\n",
    "    # Convert the maze to a NumPy array for easier plotting\n",
    "    maze_np = np.array(maze)\n",
    "    # Create an overlay for the path\n",
    "    overlay = np.zeros_like(maze_np)\n",
    "    for i, j in path:\n",
    "        overlay[i, j] = 2  # Marking the path\n",
    "\n",
    "    # Create a custom color map\n",
    "    cmap = ListedColormap(['white', 'black', 'green'])\n",
    "    # Plotting\n",
    "    fig, ax = plt.subplots()\n",
    "    ax.imshow(maze_np + overlay, cmap=cmap, interpolation='nearest', norm=plt.Normalize(vmin=0, vmax=2))\n",
    "    ax.grid(which='major', color='grey', linestyle='-', linewidth=0.5)\n",
    "    ax.set_xticks(np.arange(-0.5, len(maze[0]), 1))\n",
    "    ax.set_yticks(np.arange(-0.5, len(maze), 1))\n",
    "    ax.set_xticklabels([])\n",
    "    ax.set_yticklabels([])\n",
    "    plt.show()\n"
   ]
  },
  {
   "cell_type": "code",
   "execution_count": 83,
   "id": "dd44ba72-852b-448c-be58-1fcb6d203ea5",
   "metadata": {},
   "outputs": [
    {
     "data": {
      "image/png": "[encoded data removed]",
      "text/plain": [
       "<Figure size 640x480 with 1 Axes>"
      ]
     },
     "metadata": {},
     "output_type": "display_data"
    }
   ],
   "source": [
    "# maze array\n",
    "maze = [\n",
    "    [0, 1, 1, 1, 1, 1, 0, 1, 1, 1, 1, 1, 0],\n",
    "    [0, 0, 0, 0, 0, 1, 0, 0, 0, 0, 0, 1, 0],\n",
    "    [1, 1, 1, 1, 0, 1, 0, 1, 1, 1, 0, 1, 0],\n",
    "    [1, 0, 0, 1, 0, 0, 0, 1, 0, 1, 0, 0, 0],\n",
    "    [1, 0, 1, 1, 1, 1, 1, 1, 0, 1, 1, 1, 0],\n",
    "    [1, 0, 0, 0, 0, 0, 0, 0, 0, 0, 0, 0, 0],\n",
    "    [1, 1, 1, 1, 1, 1, 1, 1, 1, 1, 1, 1, 1],\n",
    "]\n",
    "\n",
    "graph = create_graph(maze)\n",
    "start, end = (0, 0), (0, 12)\n",
    "path = dfs(graph, start, end)\n",
    "\n",
    "if path:\n",
    "    visualize_path(maze, path)\n",
    "else:\n",
    "    print(\"No path found\")\n"
   ]
  },
  {
   "cell_type": "code",
   "execution_count": null,
   "id": "9d5ff9cd-3171-4562-b2e0-dcf4bada024f",
   "metadata": {},
   "outputs": [],
   "source": []
  }
 ],
 "metadata": {
  "kernelspec": {
   "display_name": "Python 3 (ipykernel)",
   "language": "python",
   "name": "python3"
  },
  "language_info": {
   "codemirror_mode": {
    "name": "ipython",
    "version": 3
   },
   "file_extension": ".py",
   "mimetype": "text/x-python",
   "name": "python",
   "nbconvert_exporter": "python",
   "pygments_lexer": "ipython3",
   "version": "3.11.6"
  }
 },
 "nbformat": 4,
 "nbformat_minor": 5
}
