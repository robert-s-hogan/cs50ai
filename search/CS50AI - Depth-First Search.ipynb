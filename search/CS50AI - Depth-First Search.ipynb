{
 "cells": [
  {
   "cell_type": "code",
   "execution_count": 7,
   "id": "79467825-1f31-469b-945a-cc3eec7c7c53",
   "metadata": {},
   "outputs": [],
   "source": [
    "import matplotlib.pyplot as plt\n",
    "import numpy as np\n",
    "from matplotlib.colors import ListedColormap\n",
    "import random"
   ]
  },
  {
   "cell_type": "code",
   "execution_count": 8,
   "id": "28e57e26-5756-49cc-bc24-4f7fc8d0f95b",
   "metadata": {},
   "outputs": [],
   "source": [
    "def dfs(graph, start, end, path=None, visited=None, all_visited=None):\n",
    "    if path is None:\n",
    "        path = [start]\n",
    "    else:\n",
    "        path = path + [start]\n",
    "    if visited is None:\n",
    "        visited = set([start])\n",
    "    else:\n",
    "        visited.add(start)\n",
    "    if all_visited is None:\n",
    "        all_visited = set([start])\n",
    "    else:\n",
    "        all_visited.add(start)\n",
    "\n",
    "    if start == end:\n",
    "        return path, all_visited\n",
    "\n",
    "    neighbors = list(graph[start])\n",
    "    random.shuffle(neighbors)  # Randomize the order of neighbors\n",
    "    for neighbor in neighbors:\n",
    "        if neighbor not in visited:\n",
    "            new_path, new_all_visited = dfs(graph, neighbor, end, path, visited.copy(), all_visited)\n",
    "            if new_path:\n",
    "                return new_path, new_all_visited\n",
    "    return None, all_visited\n"
   ]
  },
  {
   "cell_type": "code",
   "execution_count": 9,
   "id": "25c61b70-8ceb-4b7d-8a57-5572596cf7de",
   "metadata": {},
   "outputs": [],
   "source": [
    "def create_graph(maze):\n",
    "    graph = {}\n",
    "    for i, row in enumerate(maze):\n",
    "        for j, cell in enumerate(row):\n",
    "            if cell == 0:  # Only consider paths, not walls\n",
    "                graph[(i, j)] = []\n",
    "                for direction in [(0, 1), (1, 0), (0, -1), (-1, 0)]:\n",
    "                    ni, nj = i + direction[0], j + direction[1]\n",
    "                    if 0 <= ni < len(maze) and 0 <= nj < len(maze[0]) and maze[ni][nj] == 0:\n",
    "                        graph[(i, j)].append((ni, nj))\n",
    "    return graph"
   ]
  },
  {
   "cell_type": "code",
   "execution_count": 10,
   "id": "a09b5868-906c-43a2-98c5-5ccb203786e5",
   "metadata": {},
   "outputs": [],
   "source": [
    "def visualize_path(maze, path, all_visited, start, end):\n",
    "    maze_np = np.array(maze)\n",
    "    # Mark all visited nodes first\n",
    "    for node in all_visited:\n",
    "        maze_np[node[0]][node[1]] = 3  # Mark as visited (grey)\n",
    "\n",
    "    # Overlay the successful path\n",
    "    for node in path:\n",
    "        maze_np[node[0]][node[1]] = 2  # Marking the path (green)\n",
    "\n",
    "    # Mark start and end\n",
    "    maze_np[start[0]][start[1]] = 4  # Start (blue)\n",
    "    maze_np[end[0]][end[1]] = 5  # End (red)\n",
    "\n",
    "    # Custom color map\n",
    "    cmap = ListedColormap(['white', 'black', 'green', 'grey', 'blue', 'red'])\n",
    "    \n",
    "    # Plotting\n",
    "    fig, ax = plt.subplots()\n",
    "    ax.imshow(maze_np, cmap=cmap, interpolation='nearest', norm=plt.Normalize(vmin=0, vmax=5))\n",
    "    ax.grid(which='major', color='grey', linestyle='-', linewidth=0.5)\n",
    "    ax.set_xticks(np.arange(-0.5, len(maze[0]), 1))\n",
    "    ax.set_yticks(np.arange(-0.5, len(maze), 1))\n",
    "    ax.set_xticklabels([])\n",
    "    ax.set_yticklabels([])\n",
    "    plt.show()\n"
   ]
  },
  {
   "cell_type": "code",
   "execution_count": 11,
   "id": "dd44ba72-852b-448c-be58-1fcb6d203ea5",
   "metadata": {},
   "outputs": [
    {
     "data": {
      "image/png": "[encoded data removed]",
      "text/plain": [
       "<Figure size 640x480 with 1 Axes>"
      ]
     },
     "metadata": {},
     "output_type": "display_data"
    }
   ],
   "source": [
    "# Your existing maze and graph creation\n",
    "maze = [\n",
    "    [0, 1, 1, 1, 1, 1, 0, 1, 1, 1, 1, 1, 0],\n",
    "    [0, 0, 0, 0, 0, 1, 0, 0, 0, 0, 0, 1, 0],\n",
    "    [1, 1, 1, 1, 0, 1, 0, 1, 1, 1, 0, 1, 0],\n",
    "    [1, 0, 0, 1, 0, 0, 0, 1, 0, 1, 0, 0, 0],\n",
    "    [1, 0, 1, 1, 1, 1, 1, 1, 0, 1, 1, 1, 0],\n",
    "    [1, 0, 0, 0, 0, 0, 0, 0, 0, 0, 0, 0, 0],\n",
    "    [1, 1, 1, 1, 1, 1, 1, 1, 1, 1, 1, 1, 1],\n",
    "]\n",
    "graph = create_graph(maze)\n",
    "start, end = (0, 0), (3, 8)\n",
    "path, all_visited = dfs(graph, start, end)\n",
    "\n",
    "if path:\n",
    "    visualize_path(maze, path, all_visited, start, end)\n",
    "else:\n",
    "    print(\"No path found\")\n"
   ]
  }
 ],
 "metadata": {
  "kernelspec": {
   "display_name": "Python 3 (ipykernel)",
   "language": "python",
   "name": "python3"
  },
  "language_info": {
   "codemirror_mode": {
    "name": "ipython",
    "version": 3
   },
   "file_extension": ".py",
   "mimetype": "text/x-python",
   "name": "python",
   "nbconvert_exporter": "python",
   "pygments_lexer": "ipython3",
   "version": "3.11.6"
  }
 },
 "nbformat": 4,
 "nbformat_minor": 5
}
