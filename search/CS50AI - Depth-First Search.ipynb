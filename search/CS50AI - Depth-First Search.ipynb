{
 "cells": [
  {
   "cell_type": "code",
   "execution_count": 5,
   "id": "79467825-1f31-469b-945a-cc3eec7c7c53",
   "metadata": {},
   "outputs": [],
   "source": [
    "import matplotlib.pyplot as plt\n",
    "import numpy as np\n",
    "from matplotlib.colors import ListedColormap\n",
    "import random"
   ]
  },
  {
   "cell_type": "code",
   "execution_count": 11,
   "id": "28e57e26-5756-49cc-bc24-4f7fc8d0f95b",
   "metadata": {},
   "outputs": [],
   "source": [
    "def dfs(graph, start, end, visited=None):\n",
    "    if visited is None:\n",
    "        visited = set()\n",
    "\n",
    "    visited.add(start)\n",
    "\n",
    "    if start == end:\n",
    "        return [start], visited\n",
    "\n",
    "    neighbors = list(graph[start])\n",
    "    random.shuffle(neighbors)  # Randomize the order of neighbors\n",
    "    for neighbor in neighbors:\n",
    "        if neighbor not in visited:\n",
    "            path, visited = dfs(graph, neighbor, end, visited)\n",
    "            if path:\n",
    "                return [start] + path, visited\n",
    "    return None, visited"
   ]
  },
  {
   "cell_type": "code",
   "execution_count": 15,
   "id": "25c61b70-8ceb-4b7d-8a57-5572596cf7de",
   "metadata": {},
   "outputs": [],
   "source": [
    "def create_graph(maze):\n",
    "    graph = {}\n",
    "    for i, row in enumerate(maze):\n",
    "        for j, cell in enumerate(row):\n",
    "            if cell == 0:  # Only consider paths, not walls\n",
    "                graph[(i, j)] = []\n",
    "                for direction in [(0, 1), (1, 0), (0, -1), (-1, 0)]:\n",
    "                    ni, nj = i + direction[0], j + direction[1]\n",
    "                    if 0 <= ni < len(maze) and 0 <= nj < len(maze[0]) and maze[ni][nj] == 0:\n",
    "                        graph[(i, j)].append((ni, nj))\n",
    "    return graph"
   ]
  },
  {
   "cell_type": "code",
   "execution_count": 13,
   "id": "a09b5868-906c-43a2-98c5-5ccb203786e5",
   "metadata": {},
   "outputs": [],
   "source": [
    "def visualize_path(maze, path, start, end):\n",
    "    # Convert the maze to a NumPy array for easier plotting\n",
    "    maze_np = np.array(maze)\n",
    "    # Overlay the path, start, and end on the maze\n",
    "    for i, j in path:\n",
    "        maze_np[i, j] = 2  # Marking the path\n",
    "    maze_np[start[0]][start[1]] = 3  # Marking the start\n",
    "    maze_np[end[0]][end[1]] = 4  # Marking the end\n",
    "\n",
    "    # Create a custom color map\n",
    "    cmap = ListedColormap(['white', 'black', 'green', 'blue', 'red'])  # Colors for empty, wall, path, start, end\n",
    "    \n",
    "    # Plotting\n",
    "    fig, ax = plt.subplots()\n",
    "    ax.imshow(maze_np, cmap=cmap, interpolation='nearest', norm=plt.Normalize(vmin=0, vmax=4))\n",
    "    ax.grid(which='major', color='grey', linestyle='-', linewidth=0.5)\n",
    "    ax.set_xticks(np.arange(-0.5, len(maze[0]), 1))\n",
    "    ax.set_yticks(np.arange(-0.5, len(maze), 1))\n",
    "    ax.set_xticklabels([])\n",
    "    ax.set_yticklabels([])\n",
    "    plt.show()"
   ]
  },
  {
   "cell_type": "code",
   "execution_count": 14,
   "id": "dd44ba72-852b-448c-be58-1fcb6d203ea5",
   "metadata": {},
   "outputs": [
    {
     "ename": "ValueError",
     "evalue": "too many values to unpack (expected 2)",
     "output_type": "error",
     "traceback": [
      "\u001b[0;31m---------------------------------------------------------------------------\u001b[0m",
      "\u001b[0;31mValueError\u001b[0m                                Traceback (most recent call last)",
      "Cell \u001b[0;32mIn[14], line 16\u001b[0m\n\u001b[1;32m     13\u001b[0m path \u001b[38;5;241m=\u001b[39m dfs(graph, start, end)\n\u001b[1;32m     15\u001b[0m \u001b[38;5;28;01mif\u001b[39;00m path:\n\u001b[0;32m---> 16\u001b[0m     \u001b[43mvisualize_path\u001b[49m\u001b[43m(\u001b[49m\u001b[43mmaze\u001b[49m\u001b[43m,\u001b[49m\u001b[43m \u001b[49m\u001b[43mpath\u001b[49m\u001b[43m,\u001b[49m\u001b[43m \u001b[49m\u001b[43mstart\u001b[49m\u001b[43m,\u001b[49m\u001b[43m \u001b[49m\u001b[43mend\u001b[49m\u001b[43m)\u001b[49m\n\u001b[1;32m     17\u001b[0m \u001b[38;5;28;01melse\u001b[39;00m:\n\u001b[1;32m     18\u001b[0m     \u001b[38;5;28mprint\u001b[39m(\u001b[38;5;124m\"\u001b[39m\u001b[38;5;124mNo path found\u001b[39m\u001b[38;5;124m\"\u001b[39m)\n",
      "Cell \u001b[0;32mIn[13], line 5\u001b[0m, in \u001b[0;36mvisualize_path\u001b[0;34m(maze, path, start, end)\u001b[0m\n\u001b[1;32m      3\u001b[0m maze_np \u001b[38;5;241m=\u001b[39m np\u001b[38;5;241m.\u001b[39marray(maze)\n\u001b[1;32m      4\u001b[0m \u001b[38;5;66;03m# Overlay the path, start, and end on the maze\u001b[39;00m\n\u001b[0;32m----> 5\u001b[0m \u001b[38;5;28;01mfor\u001b[39;00m i, j \u001b[38;5;129;01min\u001b[39;00m path:\n\u001b[1;32m      6\u001b[0m     maze_np[i, j] \u001b[38;5;241m=\u001b[39m \u001b[38;5;241m2\u001b[39m  \u001b[38;5;66;03m# Marking the path\u001b[39;00m\n\u001b[1;32m      7\u001b[0m maze_np[start[\u001b[38;5;241m0\u001b[39m]][start[\u001b[38;5;241m1\u001b[39m]] \u001b[38;5;241m=\u001b[39m \u001b[38;5;241m3\u001b[39m  \u001b[38;5;66;03m# Marking the start\u001b[39;00m\n",
      "\u001b[0;31mValueError\u001b[0m: too many values to unpack (expected 2)"
     ]
    }
   ],
   "source": [
    "# Your existing maze and graph creation\n",
    "maze = [\n",
    "    [0, 1, 1, 1, 1, 1, 0, 1, 1, 1, 1, 1, 0],\n",
    "    [0, 0, 0, 0, 0, 1, 0, 0, 0, 0, 0, 1, 0],\n",
    "    [1, 1, 1, 1, 0, 1, 0, 1, 1, 1, 0, 1, 0],\n",
    "    [1, 0, 0, 1, 0, 0, 0, 1, 0, 1, 0, 0, 0],\n",
    "    [1, 0, 1, 1, 1, 1, 1, 1, 0, 1, 1, 1, 0],\n",
    "    [1, 0, 0, 0, 0, 0, 0, 0, 0, 0, 0, 0, 0],\n",
    "    [1, 1, 1, 1, 1, 1, 1, 1, 1, 1, 1, 1, 1],\n",
    "]\n",
    "graph = create_graph(maze)\n",
    "start, end = (0, 0), (3, 8)  # Define your start and end points\n",
    "path = dfs(graph, start, end)\n",
    "\n",
    "if path:\n",
    "    visualize_path(maze, path, start, end)\n",
    "else:\n",
    "    print(\"No path found\")"
   ]
  },
  {
   "cell_type": "code",
   "execution_count": null,
   "id": "9d5ff9cd-3171-4562-b2e0-dcf4bada024f",
   "metadata": {},
   "outputs": [],
   "source": []
  }
 ],
 "metadata": {
  "kernelspec": {
   "display_name": "Python 3 (ipykernel)",
   "language": "python",
   "name": "python3"
  },
  "language_info": {
   "codemirror_mode": {
    "name": "ipython",
    "version": 3
   },
   "file_extension": ".py",
   "mimetype": "text/x-python",
   "name": "python",
   "nbconvert_exporter": "python",
   "pygments_lexer": "ipython3",
   "version": "3.11.6"
  }
 },
 "nbformat": 4,
 "nbformat_minor": 5
}
