{
 "cells": [
  {
   "cell_type": "code",
   "execution_count": 16,
   "id": "1876810c-b954-4ea7-b972-811e87d1a6a7",
   "metadata": {},
   "outputs": [],
   "source": [
    "import matplotlib.pyplot as plt\n",
    "import numpy as np"
   ]
  },
  {
   "cell_type": "code",
   "execution_count": 23,
   "id": "85b5e188-35c9-40c7-b415-8993a6411e0d",
   "metadata": {},
   "outputs": [],
   "source": [
    "# maze array\n",
    "maze = [\n",
    "    [0, 1, 1, 1, 1, 1, 0, 1, 1, 1, 1, 1, 0],\n",
    "    [0, 0, 0, 0, 0, 1, 0, 0, 0, 0, 0, 1, 0],\n",
    "    [1, 1, 1, 1, 0, 1, 0, 1, 1, 1, 0, 1, 0],\n",
    "    [1, 0, 0, 1, 0, 0, 0, 1, 0, 1, 0, 0, 0],\n",
    "    [1, 0, 1, 1, 1, 1, 1, 1, 0, 1, 1, 1, 0],\n",
    "    [1, 0, 0, 0, 0, 0, 0, 0, 0, 0, 0, 0, 0],\n",
    "    [1, 1, 1, 1, 1, 1, 1, 1, 1, 1, 1, 1, 1],\n",
    "]"
   ]
  },
  {
   "cell_type": "code",
   "execution_count": 24,
   "id": "e4f11881-be39-4ad8-80b0-8667f7e5b9e8",
   "metadata": {},
   "outputs": [
    {
     "data": {
      "image/png": "[encoded data removed]",
      "text/plain": [
       "<Figure size 640x480 with 1 Axes>"
      ]
     },
     "metadata": {},
     "output_type": "display_data"
    }
   ],
   "source": [
    "# Convert the maze to a NumPy array for easier plotting\n",
    "maze_np = np.array(maze)\n",
    "\n",
    "# Create a figure and axis for plotting\n",
    "fig, ax = plt.subplots()\n",
    "ax.imshow(maze_np, cmap='binary', interpolation='nearest')\n",
    "\n",
    "# Draw gridlines\n",
    "ax.grid(which='major', color='black', linestyle='-', linewidth=2)\n",
    "\n",
    "# Set the ticks to correspond to the grid\n",
    "ax.set_xticks(np.arange(-0.5, len(maze[0]), 1))\n",
    "ax.set_yticks(np.arange(-0.5, len(maze), 1))\n",
    "\n",
    "# Remove tick labels\n",
    "ax.set_xticklabels([])\n",
    "ax.set_yticklabels([])\n",
    "\n",
    "plt.show()"
   ]
  },
  {
   "cell_type": "code",
   "execution_count": 6,
   "id": "101a8602-7186-4558-9f94-9c1a359e6ca4",
   "metadata": {},
   "outputs": [],
   "source": [
    "#Breadth First Search Algorithm\n",
    "def bfs(maze, start, end):\n",
    "    queue = [start]\n",
    "    visited = set([start])\n",
    "    predecessors = {start: None}  # Track the predecessor of each cell\n",
    "\n",
    "    while queue:\n",
    "        current = queue.pop(0)\n",
    "        if current == end:\n",
    "            path = []\n",
    "            while current is not None:  # Reconstruct the path from end to start\n",
    "                path.append(current)\n",
    "                current = predecessors[current]\n",
    "            return path[::-1]  # Return the path in start to end order\n",
    "\n",
    "        for direction in [(0, 1), (1, 0), (0, -1), (-1, 0)]:\n",
    "            next_row = current[0] + direction[0]\n",
    "            next_col = current[1] + direction[1]\n",
    "\n",
    "            if 0 <= next_row < len(maze) and 0 <= next_col < len(maze[0]):\n",
    "                next_cell = (next_row, next_col)\n",
    "\n",
    "                if maze[next_cell[0]][next_cell[1]] == 0 and next_cell not in visited:\n",
    "                    queue.append(next_cell)\n",
    "                    visited.add(next_cell)\n",
    "                    predecessors[next_cell] = current  # Set current as predecessor of next_cell\n",
    "\n",
    "    return []  # Return an empty list if no path is found"
   ]
  },
  {
   "cell_type": "code",
   "execution_count": 32,
   "id": "5b0c903e-94ae-479e-83ba-a4c951d16616",
   "metadata": {},
   "outputs": [
    {
     "data": {
      "image/png": "[encoded data removed]",
      "text/plain": [
       "<Figure size 640x480 with 1 Axes>"
      ]
     },
     "metadata": {},
     "output_type": "display_data"
    }
   ],
   "source": [
    "import matplotlib.pyplot as plt\n",
    "import numpy as np\n",
    "from matplotlib.colors import ListedColormap\n",
    "\n",
    "# Assuming the 'path' and 'maze' variables are defined as before\n",
    "\n",
    "# Copy the maze to a new array for visualization\n",
    "maze_with_path = np.array(maze)\n",
    "\n",
    "# Mark the path in the maze\n",
    "for row, col in path:\n",
    "    maze_with_path[row][col] = 2  # Marking the path with '2'\n",
    "\n",
    "# Create a custom color map\n",
    "# 0: white (unused cells), 1: black (walls), 2: green (path)\n",
    "cmap = ListedColormap(['white', 'black', 'green'])\n",
    "\n",
    "# Plotting\n",
    "fig, ax = plt.subplots()\n",
    "\n",
    "# Use the custom colormap and set the 'norm' to ensure each value is mapped to the correct color\n",
    "ax.imshow(maze_with_path, cmap=cmap, interpolation='nearest', norm=plt.Normalize(vmin=0, vmax=2))\n",
    "\n",
    "# Draw gridlines\n",
    "ax.grid(which='major', color='grey', linestyle='-', linewidth=0.5)\n",
    "ax.set_xticks(np.arange(-0.5, len(maze[0]), 1))\n",
    "ax.set_yticks(np.arange(-0.5, len(maze), 1))\n",
    "ax.set_xticklabels([])\n",
    "ax.set_yticklabels([])\n",
    "\n",
    "plt.show()\n"
   ]
  },
  {
   "cell_type": "code",
   "execution_count": null,
   "id": "f06920ad-cd73-4fbe-a42b-d788e229421e",
   "metadata": {},
   "outputs": [],
   "source": []
  }
 ],
 "metadata": {
  "kernelspec": {
   "display_name": "Python 3 (ipykernel)",
   "language": "python",
   "name": "python3"
  },
  "language_info": {
   "codemirror_mode": {
    "name": "ipython",
    "version": 3
   },
   "file_extension": ".py",
   "mimetype": "text/x-python",
   "name": "python",
   "nbconvert_exporter": "python",
   "pygments_lexer": "ipython3",
   "version": "3.11.6"
  }
 },
 "nbformat": 4,
 "nbformat_minor": 5
}
